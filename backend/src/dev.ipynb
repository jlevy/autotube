{
 "cells": [
  {
   "cell_type": "code",
   "execution_count": 2,
   "metadata": {},
   "outputs": [],
   "source": [
    "from anthropic import Anthropic\n",
    "from prompts import make_prompt"
   ]
  },
  {
   "cell_type": "code",
   "execution_count": 3,
   "metadata": {},
   "outputs": [],
   "source": [
    "with open('transcript.txt', 'r') as f:\n",
    "    transcript = f.read()"
   ]
  },
  {
   "cell_type": "code",
   "execution_count": 4,
   "metadata": {},
   "outputs": [],
   "source": [
    "prompt = make_prompt(transcript)"
   ]
  },
  {
   "cell_type": "code",
   "execution_count": 5,
   "metadata": {},
   "outputs": [],
   "source": [
    "from anthropic import Anthropic, HUMAN_PROMPT, AI_PROMPT\n",
    "\n",
    "anthropic = Anthropic()\n"
   ]
  },
  {
   "cell_type": "code",
   "execution_count": 6,
   "metadata": {},
   "outputs": [
    {
     "data": {
      "text/plain": [
       "30605"
      ]
     },
     "execution_count": 6,
     "metadata": {},
     "output_type": "execute_result"
    }
   ],
   "source": [
    "anthropic.count_tokens(prompt)"
   ]
  },
  {
   "cell_type": "code",
   "execution_count": 7,
   "metadata": {},
   "outputs": [],
   "source": [
    "stream = anthropic.completions.create(\n",
    "    prompt=prompt,\n",
    "    max_tokens_to_sample=10_000,\n",
    "    model=\"claude-2\",\n",
    "    # stream=True,\n",
    ")\n",
    "\n",
    "out = stream.completion\n",
    "\n",
    "# for completion in stream:\n",
    "#     print(completion.completion)"
   ]
  },
  {
   "cell_type": "code",
   "execution_count": 8,
   "metadata": {},
   "outputs": [
    {
     "data": {
      "text/plain": [
       "\" <topics>\\n<topic>\\n<content>Existence of intelligent alien life</content>  \\n<instances>\\n<substring_index>Do you think there's intelligent life out there in the universe?</substring_index>\\n</instances>\\n</topic>\\n<topic>  \\n<content>Definition and meaning of intelligence</content>\\n<instances>\\n<substring_index>So you mentioned defining intelligence as the ability to solve complex goals.</substring_index> \\n<substring_index>Where would you draw a line or how would you try to define human level intelligence and superhuman level intelligence?</substring_index>\\n</instances>\\n</topic>\\n<topic>\\n<content>Consciousness and experience</content>\\n<instances>  \\n<substring_index>How do you think about consciousness from this physics perspective?</substring_index>\\n<substring_index>Do you think we need to understand what consciousness is, solve the hard problem of consciousness in order to build something like an AGI system?</substring_index>\\n</instances>\\n</topic>  \\n<topic>\\n<content>Building safe and beneficial AI</content>\\n<instances>\\n<substring_index>It's competence. By definition, intelligent makes you very competent.</substring_index>  \\n<substring_index>For the value alignment problem and the solution to it, we have to be able to put on paper or in a program human values.</substring_index>\\n</instances>\\n</topic>\\n</topics>\\n\\n<takeaways>\\n<takeaway>  \\n<content>There is likely no advanced alien civilization in our observable universe.</content>\\n<substring_index>When you look more carefully at it, it's not so clear at all.</substring_index> \\n</takeaway>\\n<takeaway>\\n<content>Intelligence is the ability to accomplish complex goals.</content>\\n<substring_index>So you mentioned defining intelligence as the ability to solve complex goals.</substring_index>\\n</takeaway>  \\n<takeaway>\\n<content>Consciousness arises from information processing patterns, not from special particles.</content>  \\n<substring_index>It's not the interesting thing about consciousness that gives us this amazing subjective experience of colors and sounds and emotions.</substring_index>\\n</takeaway>\\n<takeaway>  \\n<content>The key challenge in AI safety is aligning the system's goals with human values.</content>\\n<substring_index>And then when you do that, then you can think about the obstacles you want to avoid.</substring_index>\\n</takeaway>\\n</takeaways>\""
      ]
     },
     "execution_count": 8,
     "metadata": {},
     "output_type": "execute_result"
    }
   ],
   "source": [
    "out"
   ]
  },
  {
   "cell_type": "code",
   "execution_count": 10,
   "metadata": {},
   "outputs": [
    {
     "name": "stdout",
     "output_type": "stream",
     "text": [
      " <topics>\n",
      "<topic>\n",
      "<content>Existence of intelligent alien life</content>  \n",
      "<instances>\n",
      "<substring_index>Do you think there's intelligent life out there in the universe?</substring_index>\n",
      "</instances>\n",
      "</topic>\n",
      "<topic>  \n",
      "<content>Definition and meaning of intelligence</content>\n",
      "<instances>\n",
      "<substring_index>So you mentioned defining intelligence as the ability to solve complex goals.</substring_index> \n",
      "<substring_index>Where would you draw a line or how would you try to define human level intelligence and superhuman level intelligence?</substring_index>\n",
      "</instances>\n",
      "</topic>\n",
      "<topic>\n",
      "<content>Consciousness and experience</content>\n",
      "<instances>  \n",
      "<substring_index>How do you think about consciousness from this physics perspective?</substring_index>\n",
      "<substring_index>Do you think we need to understand what consciousness is, solve the hard problem of consciousness in order to build something like an AGI system?</substring_index>\n",
      "</instances>\n",
      "</topic>  \n",
      "<topic>\n",
      "<content>Building safe and beneficial AI</content>\n",
      "<instances>\n",
      "<substring_index>It's competence. By definition, intelligent makes you very competent.</substring_index>  \n",
      "<substring_index>For the value alignment problem and the solution to it, we have to be able to put on paper or in a program human values.</substring_index>\n",
      "</instances>\n",
      "</topic>\n",
      "</topics>\n",
      "\n",
      "<takeaways>\n",
      "<takeaway>  \n",
      "<content>There is likely no advanced alien civilization in our observable universe.</content>\n",
      "<substring_index>When you look more carefully at it, it's not so clear at all.</substring_index> \n",
      "</takeaway>\n",
      "<takeaway>\n",
      "<content>Intelligence is the ability to accomplish complex goals.</content>\n",
      "<substring_index>So you mentioned defining intelligence as the ability to solve complex goals.</substring_index>\n",
      "</takeaway>  \n",
      "<takeaway>\n",
      "<content>Consciousness arises from information processing patterns, not from special particles.</content>  \n",
      "<substring_index>It's not the interesting thing about consciousness that gives us this amazing subjective experience of colors and sounds and emotions.</substring_index>\n",
      "</takeaway>\n",
      "<takeaway>  \n",
      "<content>The key challenge in AI safety is aligning the system's goals with human values.</content>\n",
      "<substring_index>And then when you do that, then you can think about the obstacles you want to avoid.</substring_index>\n",
      "</takeaway>\n",
      "</takeaways>\n"
     ]
    }
   ],
   "source": [
    "print(out)"
   ]
  },
  {
   "cell_type": "code",
   "execution_count": 11,
   "metadata": {},
   "outputs": [],
   "source": [
    "with open(\"sample_out.xml\", \"w\") as f:\n",
    "    f.write(out)"
   ]
  },
  {
   "cell_type": "code",
   "execution_count": null,
   "metadata": {},
   "outputs": [],
   "source": []
  }
 ],
 "metadata": {
  "kernelspec": {
   "display_name": "autotube",
   "language": "python",
   "name": "python3"
  },
  "language_info": {
   "codemirror_mode": {
    "name": "ipython",
    "version": 3
   },
   "file_extension": ".py",
   "mimetype": "text/x-python",
   "name": "python",
   "nbconvert_exporter": "python",
   "pygments_lexer": "ipython3",
   "version": "3.11.4"
  },
  "orig_nbformat": 4
 },
 "nbformat": 4,
 "nbformat_minor": 2
}
